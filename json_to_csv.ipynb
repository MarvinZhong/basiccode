{
 "cells": [
  {
   "cell_type": "code",
   "execution_count": 1,
   "metadata": {},
   "outputs": [],
   "source": [
    "# !!! notebook has to be inside of the datasets directory !!!\n",
    "import pandas as pd\n",
    "import json\n",
    "import os"
   ]
  },
  {
   "cell_type": "code",
   "execution_count": null,
   "metadata": {},
   "outputs": [],
   "source": [
    "#json data structure example (labelMe JSON file)\n",
    "\"\"\"\n",
    "  {\n",
    "  \"imagePath\": \"imageName.png\", \n",
    "  \"shapes\": [\n",
    "    {\n",
    "      \"points\": [\n",
    "        [\n",
    "          98.14529914529915, \n",
    "          110.6837606837607\n",
    "        ], \n",
    "        [\n",
    "          169.94017094017096, \n",
    "          185.04273504273505\n",
    "        ]\n",
    "      ], \n",
    "      \"label\": \"labelName\"\n",
    "    }\n",
    "  ], \n",
    "  \"imageWidth\": 300, \n",
    "  \"imageHeight\": 300\n",
    "}\n",
    "\"\"\""
   ]
  },
  {
   "cell_type": "code",
   "execution_count": 2,
   "metadata": {},
   "outputs": [],
   "source": [
    "# iterate in directory\n",
    "for filename in os.listdir():\n",
    "    if filename.endswith('.json'):\n",
    "        try:\n",
    "            data = json.load(open(filename))\n",
    "            df = pd.DataFrame.from_dict(data, orient='index').T\n",
    "            # take imagepath, shape, width and height from json file\n",
    "            df_2 = df_2[['imagePath', 'shapes', 'imageWidth', 'imageHeight']] = df[['imagePath', 'shapes', 'imageWidth', 'imageHeight']].copy()\n",
    "            df = pd.DataFrame(list(df_2['shapes'][0]))\n",
    "            df = pd.DataFrame(df[['label', 'points']])\n",
    "            # copy label and points to new dataframe\n",
    "            df_3 = df_3[['label', 'points']] = df[['label', 'points']].copy()\n",
    "            # empty dataframe\n",
    "            df_empty = pd.DataFrame(columns=['xmin', 'ymin', 'xmax', 'ymax'])\n",
    "            # loop for each points\n",
    "            for i in range(len(df['points'])):\n",
    "                points = list(df['points'][i])\n",
    "                xMin, yMin, xMax, yMax = points[0][0], points[0][1], points[1][0], points[1][1]\n",
    "                # save xMin, yMin, xMax, yMax to empty dataframe\n",
    "                df_empty.loc[i] = [xMin, yMin, xMax, yMax]\n",
    "            # replace the dataframe to new one\n",
    "            df = df_empty\n",
    "            # insert others file\n",
    "            df = df.join(df_3.label)\n",
    "            df = df.join(df_2.imagePath)\n",
    "            df = df.join(df_2.imageWidth)\n",
    "            asd = df.join(df_2.imageHeight)\n",
    "            row = asd[['imagePath', 'imageWidth', 'imageHeight', 'label', 'xmin', 'ymin', 'xmax', 'ymax']]\n",
    "            # rename columns name\n",
    "            row.columns = ['filename', 'width', 'height', 'class', 'xmin', 'ymin', 'xmax', 'ymax']        \n",
    "            # fill empty with dupe value (comment this code if u dont want fill the null)\n",
    "            row.fillna(method='ffill', inplace=True)\n",
    "            # write rows in a csv file\n",
    "            with open('unclearData.csv', 'a') as csvFile:\n",
    "                row.to_csv(csvFile, index=False)\n",
    "        except:\n",
    "            pass"
   ]
  },
  {
   "cell_type": "code",
   "execution_count": 3,
   "metadata": {},
   "outputs": [
    {
     "name": "stdout",
     "output_type": "stream",
     "text": [
      "(2203, 8)\n",
      "filename    object\n",
      "width       object\n",
      "height      object\n",
      "class       object\n",
      "xmin        object\n",
      "ymin        object\n",
      "xmax        object\n",
      "ymax        object\n",
      "dtype: object\n"
     ]
    }
   ],
   "source": [
    "#Clean the csv file (because we have for each label the header)\n",
    "import pandas as pd\n",
    "\n",
    "df = pd.read_csv('unclearData.csv')\n",
    "print(df.shape)\n",
    "print(df.dtypes)\n",
    "df.head()\n",
    "\n",
    "#drop the rows which include the header imagePath\n",
    "droppi = df[df.filename == 'filename'] \n",
    "dd = df.drop(droppi.index, axis=0)\n",
    "#create new csv file\n",
    "dd.to_csv('clearedData.csv', index=False, encoding='utf8')"
   ]
  },
  {
   "cell_type": "code",
   "execution_count": null,
   "metadata": {},
   "outputs": [],
   "source": []
  }
 ],
 "metadata": {
  "kernelspec": {
   "display_name": "Python 3 (ipykernel)",
   "language": "python",
   "name": "python3"
  },
  "language_info": {
   "codemirror_mode": {
    "name": "ipython",
    "version": 3
   },
   "file_extension": ".py",
   "mimetype": "text/x-python",
   "name": "python",
   "nbconvert_exporter": "python",
   "pygments_lexer": "ipython3",
   "version": "3.9.7"
  }
 },
 "nbformat": 4,
 "nbformat_minor": 2
}
